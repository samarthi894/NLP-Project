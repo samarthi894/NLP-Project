{
  "nbformat": 4,
  "nbformat_minor": 0,
  "metadata": {
    "colab": {
      "name": "NLP_BREAK_MATH_scores.ipynb",
      "provenance": [],
      "collapsed_sections": []
    },
    "kernelspec": {
      "name": "python3",
      "display_name": "Python 3"
    },
    "language_info": {
      "name": "python"
    }
  },
  "cells": [
    {
      "cell_type": "code",
      "metadata": {
        "id": "Qew0l3nR_cB2"
      },
      "source": [
        "import sys\n",
        "import subprocess\n",
        "\n",
        "dependencies = ['sacrebleu', 'rouge_score', 'datasets', 'git+https://github.com/google-research/bleurt.git']\n",
        "for i in dependencies:\n",
        "# implement pip as a subprocess:\n",
        "  subprocess.check_call([sys.executable, '-m', 'pip', 'install', i])"
      ],
      "execution_count": 2,
      "outputs": []
    },
    {
      "cell_type": "code",
      "metadata": {
        "colab": {
          "base_uri": "https://localhost:8080/"
        },
        "id": "B7DOR2JCQc9u",
        "outputId": "2c231bf2-1f80-47ea-9edd-8fbbcfe9114d"
      },
      "source": [
        "from google.colab import drive\n",
        "drive.mount('/content/drive')"
      ],
      "execution_count": 18,
      "outputs": [
        {
          "output_type": "stream",
          "name": "stdout",
          "text": [
            "Drive already mounted at /content/drive; to attempt to forcibly remount, call drive.mount(\"/content/drive\", force_remount=True).\n"
          ]
        }
      ]
    },
    {
      "cell_type": "markdown",
      "metadata": {
        "id": "04K0j14XDci6"
      },
      "source": [
        "# SVAMP dataset"
      ]
    },
    {
      "cell_type": "markdown",
      "metadata": {
        "id": "71AxjBRZDrM2"
      },
      "source": [
        "**Scores for Undecomposed**"
      ]
    },
    {
      "cell_type": "code",
      "metadata": {
        "colab": {
          "base_uri": "https://localhost:8080/"
        },
        "id": "1nbQPHFI9lKi",
        "outputId": "1980e054-eef8-4384-bd02-c8f1add17be3"
      },
      "source": [
        "!python evaluate.py --dataset_file \"/content/drive/MyDrive/NLP_files/SVAMP_GPT3_undecomp_true_answers.txt\" --prediction_file \"/content/drive/MyDrive/NLP_files/SVAMP_GPT3_undecomp_predictions.json\""
      ],
      "execution_count": 9,
      "outputs": [
        {
          "output_type": "stream",
          "name": "stdout",
          "text": [
            "2021-12-04 21:51:14.730170: E tensorflow/stream_executor/cuda/cuda_driver.cc:271] failed call to cuInit: CUDA_ERROR_NO_DEVICE: no CUDA-capable device is detected\n",
            "/content/drive/MyDrive/NLP_files/SVAMP_GPT3_undecomp_true_answers.txt\n",
            "16\n",
            "16\n",
            "11it [00:06,  1.66it/s]\n",
            "{\"sacrebleu\": 0.0, \"bleurt\": -1.0053016394376755, \"rouge\": 0.1919047619047619, \"f1\": 0.0, \"exact_match\": 0.0}\n"
          ]
        }
      ]
    },
    {
      "cell_type": "markdown",
      "metadata": {
        "id": "YJGidP6IDb_p"
      },
      "source": [
        "**Scores for Decomposed**"
      ]
    },
    {
      "cell_type": "code",
      "metadata": {
        "colab": {
          "base_uri": "https://localhost:8080/"
        },
        "id": "BQJ2ntOhTZpx",
        "outputId": "f78f4266-0373-4779-8a6d-dd9a4bc154fb"
      },
      "source": [
        "!python evaluate.py --dataset_file \"/content/drive/MyDrive/NLP_files/SVAMP_GPT3_decomp_true_answers.txt\" --prediction_file \"/content/drive/MyDrive/NLP_files/SVAMP_GPT3_decomp_predictions.json\""
      ],
      "execution_count": 10,
      "outputs": [
        {
          "output_type": "stream",
          "name": "stdout",
          "text": [
            "2021-12-04 21:51:39.225887: E tensorflow/stream_executor/cuda/cuda_driver.cc:271] failed call to cuInit: CUDA_ERROR_NO_DEVICE: no CUDA-capable device is detected\n",
            "/content/drive/MyDrive/NLP_files/SVAMP_GPT3_decomp_true_answers.txt\n",
            "60\n",
            "60\n",
            "11it [00:06,  1.65it/s]\n",
            "{\"sacrebleu\": 0.010682175159905848, \"bleurt\": -0.1322738781571388, \"rouge\": 0.47380952380952374, \"f1\": 0.35, \"exact_match\": 0.3}\n"
          ]
        }
      ]
    },
    {
      "cell_type": "markdown",
      "metadata": {
        "id": "iZJgBq7AD2N-"
      },
      "source": [
        "# MultiRC dataset"
      ]
    },
    {
      "cell_type": "code",
      "metadata": {
        "id": "2WGT4_jzYfTI"
      },
      "source": [
        "import os"
      ],
      "execution_count": 5,
      "outputs": []
    },
    {
      "cell_type": "code",
      "metadata": {
        "id": "kHRp9v5MYhMk"
      },
      "source": [
        "os.chdir(\"/content/drive/MyDrive/NLP_files\")"
      ],
      "execution_count": 6,
      "outputs": []
    },
    {
      "cell_type": "markdown",
      "metadata": {
        "id": "aUCS-1kgD55Z"
      },
      "source": [
        "**Scores for Undecomposed**"
      ]
    },
    {
      "cell_type": "code",
      "metadata": {
        "colab": {
          "base_uri": "https://localhost:8080/"
        },
        "id": "qefS29FtEBoZ",
        "outputId": "e1c1433b-606f-4036-fc5c-7345eead7f62"
      },
      "source": [
        "!python evaluate.py --dataset_file \"/content/drive/MyDrive/NLP_files/MultiRC_GPT3_undecomp_true_answers.txt\" --prediction_file \"/content/drive/MyDrive/NLP_files/multiRC_GPT3_undecomp_predictions.json\""
      ],
      "execution_count": 16,
      "outputs": [
        {
          "output_type": "stream",
          "name": "stdout",
          "text": [
            "2021-12-05 01:21:07.803814: E tensorflow/stream_executor/cuda/cuda_driver.cc:271] failed call to cuInit: CUDA_ERROR_NO_DEVICE: no CUDA-capable device is detected\n",
            "/content/drive/MyDrive/NLP_files/MultiRC_GPT3_undecomp_true_answers.txt\n",
            "17\n",
            "17\n",
            "11it [00:06,  1.75it/s]\n",
            "{\"sacrebleu\": 0.1228592102815784, \"bleurt\": -0.7205988347530365, \"rouge\": 0.3180001285264443, \"f1\": 0.31426767676767675, \"exact_match\": 0.2}\n"
          ]
        }
      ]
    },
    {
      "cell_type": "markdown",
      "metadata": {
        "id": "a4WrkzDiD-Wt"
      },
      "source": [
        "**Scores for Decomposed**"
      ]
    },
    {
      "cell_type": "code",
      "metadata": {
        "colab": {
          "base_uri": "https://localhost:8080/"
        },
        "id": "oaIFiDY4ECXV",
        "outputId": "69655a55-a564-4182-ba16-9dc0a654337c"
      },
      "source": [
        "!python evaluate.py --dataset_file \"/content/drive/MyDrive/NLP_files/MultiRC_GPT3_decomp_true_answers.txt\" --prediction_file \"/content/drive/MyDrive/NLP_files/MultiRC_GPT3_decomp_predictions.json\""
      ],
      "execution_count": 15,
      "outputs": [
        {
          "output_type": "stream",
          "name": "stdout",
          "text": [
            "2021-12-05 01:16:33.320392: E tensorflow/stream_executor/cuda/cuda_driver.cc:271] failed call to cuInit: CUDA_ERROR_NO_DEVICE: no CUDA-capable device is detected\n",
            "/content/drive/MyDrive/NLP_files/MultiRC_GPT3_decomp_true_answers.txt\n",
            "42\n",
            "42\n",
            "11it [00:07,  1.52it/s]\n",
            "{\"sacrebleu\": 0.06797731586572793, \"bleurt\": -0.13646694123744965, \"rouge\": 0.3760461760461761, \"f1\": 0.3777777777777778, \"exact_match\": 0.2}\n"
          ]
        }
      ]
    }
  ]
}